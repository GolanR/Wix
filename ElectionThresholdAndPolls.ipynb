{
 "cells": [
  {
   "cell_type": "markdown",
   "metadata": {},
   "source": [
    "# סימולציה על מפלגות שלא עוברות בסקרים את אחוז החסימה"
   ]
  },
  {
   "cell_type": "markdown",
   "metadata": {},
   "source": [
    "הסקרים האחרונים מעידים על מפלגות רבות שלא עוברות את אחוז החסימה. סקרים אלו דוגמים לרוב כ-500 בוחרים ומסיקים מכך על התוצאות הצפויות. במקרה של מפלגות שאינן עוברות על פי הסקר את אחוז החסימה, הסקר עשוי להשפיע על בוחרים שלא לבזבז את קולם ולעבור לתמוך במפלגה אחרת. \n",
    "עבודה קצרה זו עוסקת באפשרות של\n",
    "<br/>\n",
    "False Negative\n",
    "<br/>\n",
    "קרי, שהסקר מעיד על כך שהמפלגה אינה עוברת את אחוז החסימה על אף שאילו היתה נשאלת האוכלוסיה כולה היא דווקא עוברת את הרף של 3.25%\n",
    "ניתן כמובן להשתמש בכלים תיאורטיים לשם הבחינה הזו, אך בחרתי לבחון זאת באופן שלדעתי מוחשי יותר - באמצעות סימולציה -"
   ]
  },
  {
   "cell_type": "markdown",
   "metadata": {},
   "source": [
    "# שיטה\n",
    "הסימולציה תכלול ראשית אוכלוסיה של 6,450,000 בעלי זכות בחירה (כפי שהיו בבחירות 2020, מעוגל)\n",
    "כיוון שהעניין שלנו הוא במפלגות הקטנות, נניח שישנה תמיכה במספר רב של מפלגות קטנות בקרב האוכלוסיה. לשם הנוחות נקרא למפלגות בשם המעיד על שיעור תמיכה בהן:\n",
    "- P10 : שיעור תמיכה של 1%\n",
    "- P12 : שיעור תמיכה של 1.2%\n",
    "- P14 : שיעור תמיכה של 1.4%\n",
    "- ...\n",
    "- ...\n",
    "- P50 : שיעור תמיכה של 5%\n",
    "- ...\n",
    "- ...\n",
    "- P58 : שיעור תמיכה של 5.8%\n",
    "\n",
    "<br/>\n",
    "כל יתר האוכלוסיה (~16% הנותרים) תומכים במפלגות שללא ספק עוברת את אחוז החסימה\n"
   ]
  },
  {
   "cell_type": "code",
   "execution_count": 1,
   "metadata": {},
   "outputs": [
    {
     "name": "stderr",
     "output_type": "stream",
     "text": [
      "C:\\Users\\rgolan\\Anaconda3\\lib\\site-packages\\pandas\\core\\indexing.py:670: SettingWithCopyWarning: \n",
      "A value is trying to be set on a copy of a slice from a DataFrame\n",
      "\n",
      "See the caveats in the documentation: https://pandas.pydata.org/pandas-docs/stable/user_guide/indexing.html#returning-a-view-versus-a-copy\n",
      "  iloc._setitem_with_indexer(indexer, value)\n"
     ]
    },
    {
     "data": {
      "text/plain": [
       "<matplotlib.axes._subplots.AxesSubplot at 0x2075dca1550>"
      ]
     },
     "execution_count": 1,
     "metadata": {},
     "output_type": "execute_result"
    },
    {
     "data": {
      "image/png": "[encoded data removed]",
      "text/plain": [
       "<Figure size 432x288 with 1 Axes>"
      ]
     },
     "metadata": {
      "needs_background": "light"
     },
     "output_type": "display_data"
    }
   ],
   "source": [
    "import pandas as pd\n",
    "import numpy as np\n",
    "%matplotlib inline \n",
    "Nobs=6450000\n",
    "promil=Nobs/1000\n",
    "#רשימה של 6,450,000 בוחרים\n",
    "df=pd.DataFrame(np.arange(Nobs))\n",
    "#הזנת ערכים בהתאם לחלוקה מעלה\n",
    "i=0\n",
    "df['support']='P160'\n",
    "for j in range(10, 60, 2):\n",
    "    party='P'+str(j)\n",
    "    i_end=int(i+(j/10)*(Nobs/100))\n",
    "    df.support.iloc[i:i_end]=party\n",
    "    i=i_end\n",
    "df.support.hist(bins=50)\n"
   ]
  },
  {
   "cell_type": "markdown",
   "metadata": {},
   "source": [
    "כעת נסקור כל פעם 500 תצפיות ונבחן אלו מפלגות עברו בו את אחוז החסימה\n",
    "- דוגמא בודדת:"
   ]
  },
  {
   "cell_type": "code",
   "execution_count": 2,
   "metadata": {},
   "outputs": [
    {
     "data": {
      "text/html": [
       "<div>\n",
       "<style scoped>\n",
       "    .dataframe tbody tr th:only-of-type {\n",
       "        vertical-align: middle;\n",
       "    }\n",
       "\n",
       "    .dataframe tbody tr th {\n",
       "        vertical-align: top;\n",
       "    }\n",
       "\n",
       "    .dataframe thead th {\n",
       "        text-align: right;\n",
       "    }\n",
       "</style>\n",
       "<table border=\"1\" class=\"dataframe\">\n",
       "  <thead>\n",
       "    <tr style=\"text-align: right;\">\n",
       "      <th></th>\n",
       "      <th>rate_on_poll</th>\n",
       "      <th>passedThreshold</th>\n",
       "    </tr>\n",
       "    <tr>\n",
       "      <th>support</th>\n",
       "      <th></th>\n",
       "      <th></th>\n",
       "    </tr>\n",
       "  </thead>\n",
       "  <tbody>\n",
       "    <tr>\n",
       "      <th>P10</th>\n",
       "      <td>0.008</td>\n",
       "      <td>0</td>\n",
       "    </tr>\n",
       "    <tr>\n",
       "      <th>P12</th>\n",
       "      <td>0.002</td>\n",
       "      <td>0</td>\n",
       "    </tr>\n",
       "    <tr>\n",
       "      <th>P14</th>\n",
       "      <td>0.032</td>\n",
       "      <td>0</td>\n",
       "    </tr>\n",
       "    <tr>\n",
       "      <th>P16</th>\n",
       "      <td>0.014</td>\n",
       "      <td>0</td>\n",
       "    </tr>\n",
       "    <tr>\n",
       "      <th>P160</th>\n",
       "      <td>0.128</td>\n",
       "      <td>1</td>\n",
       "    </tr>\n",
       "    <tr>\n",
       "      <th>P18</th>\n",
       "      <td>0.018</td>\n",
       "      <td>0</td>\n",
       "    </tr>\n",
       "    <tr>\n",
       "      <th>P20</th>\n",
       "      <td>0.020</td>\n",
       "      <td>0</td>\n",
       "    </tr>\n",
       "    <tr>\n",
       "      <th>P22</th>\n",
       "      <td>0.030</td>\n",
       "      <td>0</td>\n",
       "    </tr>\n",
       "    <tr>\n",
       "      <th>P24</th>\n",
       "      <td>0.030</td>\n",
       "      <td>0</td>\n",
       "    </tr>\n",
       "    <tr>\n",
       "      <th>P26</th>\n",
       "      <td>0.018</td>\n",
       "      <td>0</td>\n",
       "    </tr>\n",
       "    <tr>\n",
       "      <th>P28</th>\n",
       "      <td>0.018</td>\n",
       "      <td>0</td>\n",
       "    </tr>\n",
       "    <tr>\n",
       "      <th>P30</th>\n",
       "      <td>0.036</td>\n",
       "      <td>1</td>\n",
       "    </tr>\n",
       "    <tr>\n",
       "      <th>P32</th>\n",
       "      <td>0.042</td>\n",
       "      <td>1</td>\n",
       "    </tr>\n",
       "    <tr>\n",
       "      <th>P34</th>\n",
       "      <td>0.038</td>\n",
       "      <td>1</td>\n",
       "    </tr>\n",
       "    <tr>\n",
       "      <th>P36</th>\n",
       "      <td>0.028</td>\n",
       "      <td>0</td>\n",
       "    </tr>\n",
       "    <tr>\n",
       "      <th>P38</th>\n",
       "      <td>0.034</td>\n",
       "      <td>1</td>\n",
       "    </tr>\n",
       "    <tr>\n",
       "      <th>P40</th>\n",
       "      <td>0.046</td>\n",
       "      <td>1</td>\n",
       "    </tr>\n",
       "    <tr>\n",
       "      <th>P42</th>\n",
       "      <td>0.056</td>\n",
       "      <td>1</td>\n",
       "    </tr>\n",
       "    <tr>\n",
       "      <th>P44</th>\n",
       "      <td>0.056</td>\n",
       "      <td>1</td>\n",
       "    </tr>\n",
       "    <tr>\n",
       "      <th>P46</th>\n",
       "      <td>0.038</td>\n",
       "      <td>1</td>\n",
       "    </tr>\n",
       "    <tr>\n",
       "      <th>P48</th>\n",
       "      <td>0.070</td>\n",
       "      <td>1</td>\n",
       "    </tr>\n",
       "    <tr>\n",
       "      <th>P50</th>\n",
       "      <td>0.042</td>\n",
       "      <td>1</td>\n",
       "    </tr>\n",
       "    <tr>\n",
       "      <th>P52</th>\n",
       "      <td>0.036</td>\n",
       "      <td>1</td>\n",
       "    </tr>\n",
       "    <tr>\n",
       "      <th>P54</th>\n",
       "      <td>0.060</td>\n",
       "      <td>1</td>\n",
       "    </tr>\n",
       "    <tr>\n",
       "      <th>P56</th>\n",
       "      <td>0.050</td>\n",
       "      <td>1</td>\n",
       "    </tr>\n",
       "    <tr>\n",
       "      <th>P58</th>\n",
       "      <td>0.050</td>\n",
       "      <td>1</td>\n",
       "    </tr>\n",
       "  </tbody>\n",
       "</table>\n",
       "</div>"
      ],
      "text/plain": [
       "         rate_on_poll  passedThreshold\n",
       "support                               \n",
       "P10             0.008                0\n",
       "P12             0.002                0\n",
       "P14             0.032                0\n",
       "P16             0.014                0\n",
       "P160            0.128                1\n",
       "P18             0.018                0\n",
       "P20             0.020                0\n",
       "P22             0.030                0\n",
       "P24             0.030                0\n",
       "P26             0.018                0\n",
       "P28             0.018                0\n",
       "P30             0.036                1\n",
       "P32             0.042                1\n",
       "P34             0.038                1\n",
       "P36             0.028                0\n",
       "P38             0.034                1\n",
       "P40             0.046                1\n",
       "P42             0.056                1\n",
       "P44             0.056                1\n",
       "P46             0.038                1\n",
       "P48             0.070                1\n",
       "P50             0.042                1\n",
       "P52             0.036                1\n",
       "P54             0.060                1\n",
       "P56             0.050                1\n",
       "P58             0.050                1"
      ]
     },
     "execution_count": 2,
     "metadata": {},
     "output_type": "execute_result"
    }
   ],
   "source": [
    "poll=df.sample(n=500).groupby(by='support').count()\n",
    "#.sort_values(by=0)\n",
    "poll[0]=poll[0].div(poll[0].sum()) # as percentages\n",
    "poll.columns=['rate_on_poll']\n",
    "poll['passedThreshold']=np.where(poll['rate_on_poll']>0.0325,1,0)\n",
    "poll"
   ]
  },
  {
   "cell_type": "markdown",
   "metadata": {},
   "source": [
    "ניתן לראות כאן למשל שמפלגה עם תמיכה בפועל של 3.6%, לפי הסקר לא עברה את אחוז החסימה. לא נראה חריג כל כךך, אך בנסיונות אחרים גם מפלגות עם 4.8% לא עברו אותו - כאשר מדובר במפלגה שצפויה לקבל כ-6 מושבים... \n",
    "עכשיו נבצע את התהליך הזה 1,000 פעמים ונספור את מספר הפעמים שכל מפלגה עברה בסקר את אחוז החסימה"
   ]
  },
  {
   "cell_type": "code",
   "execution_count": 4,
   "metadata": {},
   "outputs": [],
   "source": [
    "\n",
    "for poll_i in range(1000):\n",
    "    poll=df.sample(n=500).groupby(by='support').count()\n",
    "    poll[0]=poll[0].div(poll[0].sum()) # as percentages\n",
    "    tempName0='rate'+str(poll_i)\n",
    "    poll.columns=[tempName0]\n",
    "    tempName='poll'+str(poll_i)\n",
    "    poll[tempName]=np.where(poll[tempName0]>0.0325,1,0)\n",
    "    if poll_i==0:\n",
    "        polls_summary=poll[tempName]\n",
    "        polls_rate=poll[tempName0]\n",
    "    else:\n",
    "        polls_summary=pd.merge(polls_summary,poll[tempName], how='left', left_index=True, right_index=True)     \n",
    "        polls_rate=pd.merge(polls_rate,poll[tempName0], how='left', left_index=True, right_index=True)     "
   ]
  },
  {
   "cell_type": "code",
   "execution_count": 5,
   "metadata": {},
   "outputs": [],
   "source": [
    "#נחשב את מספר הפעמים (מתוך 1000 סקרים שיצא שהמפלגה עברה את אחוז החסימה)\n",
    "polls_summary['sum']=polls_summary.sum(axis=1)"
   ]
  },
  {
   "cell_type": "markdown",
   "metadata": {},
   "source": [
    "# תוצאות "
   ]
  },
  {
   "cell_type": "markdown",
   "metadata": {},
   "source": [
    "#### התוצאות הממוצעות בסקרים לפי מפלגה"
   ]
  },
  {
   "cell_type": "code",
   "execution_count": 6,
   "metadata": {},
   "outputs": [
    {
     "data": {
      "text/html": [
       "<div>\n",
       "<style scoped>\n",
       "    .dataframe tbody tr th:only-of-type {\n",
       "        vertical-align: middle;\n",
       "    }\n",
       "\n",
       "    .dataframe tbody tr th {\n",
       "        vertical-align: top;\n",
       "    }\n",
       "\n",
       "    .dataframe thead th {\n",
       "        text-align: right;\n",
       "    }\n",
       "</style>\n",
       "<table border=\"1\" class=\"dataframe\">\n",
       "  <thead>\n",
       "    <tr style=\"text-align: right;\">\n",
       "      <th></th>\n",
       "      <th>Average Support on Polls</th>\n",
       "      <th>Standard Deviation</th>\n",
       "    </tr>\n",
       "    <tr>\n",
       "      <th>Party</th>\n",
       "      <th></th>\n",
       "      <th></th>\n",
       "    </tr>\n",
       "  </thead>\n",
       "  <tbody>\n",
       "    <tr>\n",
       "      <th>P10</th>\n",
       "      <td>0.010</td>\n",
       "      <td>0.004</td>\n",
       "    </tr>\n",
       "    <tr>\n",
       "      <th>P12</th>\n",
       "      <td>0.012</td>\n",
       "      <td>0.005</td>\n",
       "    </tr>\n",
       "    <tr>\n",
       "      <th>P14</th>\n",
       "      <td>0.014</td>\n",
       "      <td>0.005</td>\n",
       "    </tr>\n",
       "    <tr>\n",
       "      <th>P16</th>\n",
       "      <td>0.016</td>\n",
       "      <td>0.006</td>\n",
       "    </tr>\n",
       "    <tr>\n",
       "      <th>P18</th>\n",
       "      <td>0.018</td>\n",
       "      <td>0.006</td>\n",
       "    </tr>\n",
       "    <tr>\n",
       "      <th>P20</th>\n",
       "      <td>0.020</td>\n",
       "      <td>0.007</td>\n",
       "    </tr>\n",
       "    <tr>\n",
       "      <th>P22</th>\n",
       "      <td>0.022</td>\n",
       "      <td>0.007</td>\n",
       "    </tr>\n",
       "    <tr>\n",
       "      <th>P24</th>\n",
       "      <td>0.024</td>\n",
       "      <td>0.007</td>\n",
       "    </tr>\n",
       "    <tr>\n",
       "      <th>P26</th>\n",
       "      <td>0.026</td>\n",
       "      <td>0.007</td>\n",
       "    </tr>\n",
       "    <tr>\n",
       "      <th>P28</th>\n",
       "      <td>0.028</td>\n",
       "      <td>0.007</td>\n",
       "    </tr>\n",
       "    <tr>\n",
       "      <th>P30</th>\n",
       "      <td>0.030</td>\n",
       "      <td>0.008</td>\n",
       "    </tr>\n",
       "    <tr>\n",
       "      <th>P32</th>\n",
       "      <td>0.032</td>\n",
       "      <td>0.008</td>\n",
       "    </tr>\n",
       "    <tr>\n",
       "      <th>P34</th>\n",
       "      <td>0.034</td>\n",
       "      <td>0.008</td>\n",
       "    </tr>\n",
       "    <tr>\n",
       "      <th>P36</th>\n",
       "      <td>0.036</td>\n",
       "      <td>0.008</td>\n",
       "    </tr>\n",
       "    <tr>\n",
       "      <th>P38</th>\n",
       "      <td>0.038</td>\n",
       "      <td>0.008</td>\n",
       "    </tr>\n",
       "    <tr>\n",
       "      <th>P40</th>\n",
       "      <td>0.040</td>\n",
       "      <td>0.009</td>\n",
       "    </tr>\n",
       "    <tr>\n",
       "      <th>P42</th>\n",
       "      <td>0.042</td>\n",
       "      <td>0.009</td>\n",
       "    </tr>\n",
       "    <tr>\n",
       "      <th>P44</th>\n",
       "      <td>0.044</td>\n",
       "      <td>0.009</td>\n",
       "    </tr>\n",
       "    <tr>\n",
       "      <th>P46</th>\n",
       "      <td>0.046</td>\n",
       "      <td>0.009</td>\n",
       "    </tr>\n",
       "    <tr>\n",
       "      <th>P48</th>\n",
       "      <td>0.048</td>\n",
       "      <td>0.010</td>\n",
       "    </tr>\n",
       "    <tr>\n",
       "      <th>P50</th>\n",
       "      <td>0.050</td>\n",
       "      <td>0.009</td>\n",
       "    </tr>\n",
       "    <tr>\n",
       "      <th>P52</th>\n",
       "      <td>0.052</td>\n",
       "      <td>0.010</td>\n",
       "    </tr>\n",
       "    <tr>\n",
       "      <th>P54</th>\n",
       "      <td>0.054</td>\n",
       "      <td>0.010</td>\n",
       "    </tr>\n",
       "    <tr>\n",
       "      <th>P56</th>\n",
       "      <td>0.056</td>\n",
       "      <td>0.010</td>\n",
       "    </tr>\n",
       "    <tr>\n",
       "      <th>P58</th>\n",
       "      <td>0.058</td>\n",
       "      <td>0.011</td>\n",
       "    </tr>\n",
       "  </tbody>\n",
       "</table>\n",
       "</div>"
      ],
      "text/plain": [
       "       Average Support on Polls  Standard Deviation\n",
       "Party                                              \n",
       "P10                       0.010               0.004\n",
       "P12                       0.012               0.005\n",
       "P14                       0.014               0.005\n",
       "P16                       0.016               0.006\n",
       "P18                       0.018               0.006\n",
       "P20                       0.020               0.007\n",
       "P22                       0.022               0.007\n",
       "P24                       0.024               0.007\n",
       "P26                       0.026               0.007\n",
       "P28                       0.028               0.007\n",
       "P30                       0.030               0.008\n",
       "P32                       0.032               0.008\n",
       "P34                       0.034               0.008\n",
       "P36                       0.036               0.008\n",
       "P38                       0.038               0.008\n",
       "P40                       0.040               0.009\n",
       "P42                       0.042               0.009\n",
       "P44                       0.044               0.009\n",
       "P46                       0.046               0.009\n",
       "P48                       0.048               0.010\n",
       "P50                       0.050               0.009\n",
       "P52                       0.052               0.010\n",
       "P54                       0.054               0.010\n",
       "P56                       0.056               0.010\n",
       "P58                       0.058               0.011"
      ]
     },
     "execution_count": 6,
     "metadata": {},
     "output_type": "execute_result"
    }
   ],
   "source": [
    "temp=polls_rate.T.reset_index(drop=True)\n",
    "Means=pd.DataFrame(temp.mean()).round(3)\n",
    "Means=Means.drop(index='P160',axis=0)\n",
    "Means=Means.rename_axis('Party')\n",
    "Means=Means.rename(columns={0:'Average Support on Polls'})\n",
    "Means['Standard Deviation']=pd.DataFrame(temp.std()).round(3)\n",
    "Means"
   ]
  },
  {
   "cell_type": "markdown",
   "metadata": {},
   "source": [
    "ניתן לראות שבממוצע הסקרים כמובן חסרי הטיה ושבמפלגות הקטנות סטיית התקן היא בסדר גודל של כרבע עד שליש מהממוצע. השונות הגבוהה באופן יחסי מייצרת את הבעיה הנדונה בעבודה זו "
   ]
  },
  {
   "cell_type": "markdown",
   "metadata": {},
   "source": [
    "#### טעויות סביב אחוז החסימה "
   ]
  },
  {
   "cell_type": "code",
   "execution_count": 7,
   "metadata": {},
   "outputs": [
    {
     "data": {
      "text/html": [
       "<div>\n",
       "<style scoped>\n",
       "    .dataframe tbody tr th:only-of-type {\n",
       "        vertical-align: middle;\n",
       "    }\n",
       "\n",
       "    .dataframe tbody tr th {\n",
       "        vertical-align: top;\n",
       "    }\n",
       "\n",
       "    .dataframe thead th {\n",
       "        text-align: right;\n",
       "    }\n",
       "</style>\n",
       "<table border=\"1\" class=\"dataframe\">\n",
       "  <thead>\n",
       "    <tr style=\"text-align: right;\">\n",
       "      <th></th>\n",
       "      <th># Passed Threshold 1k Polls</th>\n",
       "      <th>Real Support [%]</th>\n",
       "      <th>Above Threshold</th>\n",
       "      <th>False Positive Rate [%]</th>\n",
       "      <th>False Negative Rate [%]</th>\n",
       "    </tr>\n",
       "    <tr>\n",
       "      <th>Party</th>\n",
       "      <th></th>\n",
       "      <th></th>\n",
       "      <th></th>\n",
       "      <th></th>\n",
       "      <th></th>\n",
       "    </tr>\n",
       "  </thead>\n",
       "  <tbody>\n",
       "    <tr>\n",
       "      <th>P10</th>\n",
       "      <td>0.0</td>\n",
       "      <td>1.0</td>\n",
       "      <td>False</td>\n",
       "      <td>0.0</td>\n",
       "      <td>0.0</td>\n",
       "    </tr>\n",
       "    <tr>\n",
       "      <th>P12</th>\n",
       "      <td>0.0</td>\n",
       "      <td>1.2</td>\n",
       "      <td>False</td>\n",
       "      <td>0.0</td>\n",
       "      <td>0.0</td>\n",
       "    </tr>\n",
       "    <tr>\n",
       "      <th>P14</th>\n",
       "      <td>0.0</td>\n",
       "      <td>1.4</td>\n",
       "      <td>False</td>\n",
       "      <td>0.0</td>\n",
       "      <td>0.0</td>\n",
       "    </tr>\n",
       "    <tr>\n",
       "      <th>P16</th>\n",
       "      <td>6.0</td>\n",
       "      <td>1.6</td>\n",
       "      <td>False</td>\n",
       "      <td>0.6</td>\n",
       "      <td>0.0</td>\n",
       "    </tr>\n",
       "    <tr>\n",
       "      <th>P18</th>\n",
       "      <td>13.0</td>\n",
       "      <td>1.8</td>\n",
       "      <td>False</td>\n",
       "      <td>1.3</td>\n",
       "      <td>0.0</td>\n",
       "    </tr>\n",
       "    <tr>\n",
       "      <th>P20</th>\n",
       "      <td>28.0</td>\n",
       "      <td>2.0</td>\n",
       "      <td>False</td>\n",
       "      <td>2.8</td>\n",
       "      <td>0.0</td>\n",
       "    </tr>\n",
       "    <tr>\n",
       "      <th>P22</th>\n",
       "      <td>53.0</td>\n",
       "      <td>2.2</td>\n",
       "      <td>False</td>\n",
       "      <td>5.3</td>\n",
       "      <td>0.0</td>\n",
       "    </tr>\n",
       "    <tr>\n",
       "      <th>P24</th>\n",
       "      <td>96.0</td>\n",
       "      <td>2.4</td>\n",
       "      <td>False</td>\n",
       "      <td>9.6</td>\n",
       "      <td>0.0</td>\n",
       "    </tr>\n",
       "    <tr>\n",
       "      <th>P26</th>\n",
       "      <td>164.0</td>\n",
       "      <td>2.6</td>\n",
       "      <td>False</td>\n",
       "      <td>16.4</td>\n",
       "      <td>0.0</td>\n",
       "    </tr>\n",
       "    <tr>\n",
       "      <th>P28</th>\n",
       "      <td>235.0</td>\n",
       "      <td>2.8</td>\n",
       "      <td>False</td>\n",
       "      <td>23.5</td>\n",
       "      <td>0.0</td>\n",
       "    </tr>\n",
       "    <tr>\n",
       "      <th>P30</th>\n",
       "      <td>328.0</td>\n",
       "      <td>3.0</td>\n",
       "      <td>False</td>\n",
       "      <td>32.8</td>\n",
       "      <td>0.0</td>\n",
       "    </tr>\n",
       "    <tr>\n",
       "      <th>P32</th>\n",
       "      <td>421.0</td>\n",
       "      <td>3.2</td>\n",
       "      <td>False</td>\n",
       "      <td>42.1</td>\n",
       "      <td>0.0</td>\n",
       "    </tr>\n",
       "    <tr>\n",
       "      <th>P34</th>\n",
       "      <td>533.0</td>\n",
       "      <td>3.4</td>\n",
       "      <td>True</td>\n",
       "      <td>0.0</td>\n",
       "      <td>46.7</td>\n",
       "    </tr>\n",
       "    <tr>\n",
       "      <th>P36</th>\n",
       "      <td>668.0</td>\n",
       "      <td>3.6</td>\n",
       "      <td>True</td>\n",
       "      <td>0.0</td>\n",
       "      <td>33.2</td>\n",
       "    </tr>\n",
       "    <tr>\n",
       "      <th>P38</th>\n",
       "      <td>716.0</td>\n",
       "      <td>3.8</td>\n",
       "      <td>True</td>\n",
       "      <td>0.0</td>\n",
       "      <td>28.4</td>\n",
       "    </tr>\n",
       "    <tr>\n",
       "      <th>P40</th>\n",
       "      <td>805.0</td>\n",
       "      <td>4.0</td>\n",
       "      <td>True</td>\n",
       "      <td>0.0</td>\n",
       "      <td>19.5</td>\n",
       "    </tr>\n",
       "    <tr>\n",
       "      <th>P42</th>\n",
       "      <td>831.0</td>\n",
       "      <td>4.2</td>\n",
       "      <td>True</td>\n",
       "      <td>0.0</td>\n",
       "      <td>16.9</td>\n",
       "    </tr>\n",
       "    <tr>\n",
       "      <th>P44</th>\n",
       "      <td>885.0</td>\n",
       "      <td>4.4</td>\n",
       "      <td>True</td>\n",
       "      <td>0.0</td>\n",
       "      <td>11.5</td>\n",
       "    </tr>\n",
       "    <tr>\n",
       "      <th>P46</th>\n",
       "      <td>923.0</td>\n",
       "      <td>4.6</td>\n",
       "      <td>True</td>\n",
       "      <td>0.0</td>\n",
       "      <td>7.7</td>\n",
       "    </tr>\n",
       "    <tr>\n",
       "      <th>P48</th>\n",
       "      <td>952.0</td>\n",
       "      <td>4.8</td>\n",
       "      <td>True</td>\n",
       "      <td>0.0</td>\n",
       "      <td>4.8</td>\n",
       "    </tr>\n",
       "    <tr>\n",
       "      <th>P50</th>\n",
       "      <td>967.0</td>\n",
       "      <td>5.0</td>\n",
       "      <td>True</td>\n",
       "      <td>0.0</td>\n",
       "      <td>3.3</td>\n",
       "    </tr>\n",
       "    <tr>\n",
       "      <th>P52</th>\n",
       "      <td>982.0</td>\n",
       "      <td>5.2</td>\n",
       "      <td>True</td>\n",
       "      <td>0.0</td>\n",
       "      <td>1.8</td>\n",
       "    </tr>\n",
       "    <tr>\n",
       "      <th>P54</th>\n",
       "      <td>988.0</td>\n",
       "      <td>5.4</td>\n",
       "      <td>True</td>\n",
       "      <td>0.0</td>\n",
       "      <td>1.2</td>\n",
       "    </tr>\n",
       "    <tr>\n",
       "      <th>P56</th>\n",
       "      <td>993.0</td>\n",
       "      <td>5.6</td>\n",
       "      <td>True</td>\n",
       "      <td>0.0</td>\n",
       "      <td>0.7</td>\n",
       "    </tr>\n",
       "    <tr>\n",
       "      <th>P58</th>\n",
       "      <td>994.0</td>\n",
       "      <td>5.8</td>\n",
       "      <td>True</td>\n",
       "      <td>0.0</td>\n",
       "      <td>0.6</td>\n",
       "    </tr>\n",
       "  </tbody>\n",
       "</table>\n",
       "</div>"
      ],
      "text/plain": [
       "       # Passed Threshold 1k Polls  Real Support [%]  Above Threshold  \\\n",
       "Party                                                                   \n",
       "P10                            0.0               1.0            False   \n",
       "P12                            0.0               1.2            False   \n",
       "P14                            0.0               1.4            False   \n",
       "P16                            6.0               1.6            False   \n",
       "P18                           13.0               1.8            False   \n",
       "P20                           28.0               2.0            False   \n",
       "P22                           53.0               2.2            False   \n",
       "P24                           96.0               2.4            False   \n",
       "P26                          164.0               2.6            False   \n",
       "P28                          235.0               2.8            False   \n",
       "P30                          328.0               3.0            False   \n",
       "P32                          421.0               3.2            False   \n",
       "P34                          533.0               3.4             True   \n",
       "P36                          668.0               3.6             True   \n",
       "P38                          716.0               3.8             True   \n",
       "P40                          805.0               4.0             True   \n",
       "P42                          831.0               4.2             True   \n",
       "P44                          885.0               4.4             True   \n",
       "P46                          923.0               4.6             True   \n",
       "P48                          952.0               4.8             True   \n",
       "P50                          967.0               5.0             True   \n",
       "P52                          982.0               5.2             True   \n",
       "P54                          988.0               5.4             True   \n",
       "P56                          993.0               5.6             True   \n",
       "P58                          994.0               5.8             True   \n",
       "\n",
       "       False Positive Rate [%]  False Negative Rate [%]  \n",
       "Party                                                    \n",
       "P10                        0.0                      0.0  \n",
       "P12                        0.0                      0.0  \n",
       "P14                        0.0                      0.0  \n",
       "P16                        0.6                      0.0  \n",
       "P18                        1.3                      0.0  \n",
       "P20                        2.8                      0.0  \n",
       "P22                        5.3                      0.0  \n",
       "P24                        9.6                      0.0  \n",
       "P26                       16.4                      0.0  \n",
       "P28                       23.5                      0.0  \n",
       "P30                       32.8                      0.0  \n",
       "P32                       42.1                      0.0  \n",
       "P34                        0.0                     46.7  \n",
       "P36                        0.0                     33.2  \n",
       "P38                        0.0                     28.4  \n",
       "P40                        0.0                     19.5  \n",
       "P42                        0.0                     16.9  \n",
       "P44                        0.0                     11.5  \n",
       "P46                        0.0                      7.7  \n",
       "P48                        0.0                      4.8  \n",
       "P50                        0.0                      3.3  \n",
       "P52                        0.0                      1.8  \n",
       "P54                        0.0                      1.2  \n",
       "P56                        0.0                      0.7  \n",
       "P58                        0.0                      0.6  "
      ]
     },
     "execution_count": 7,
     "metadata": {},
     "output_type": "execute_result"
    }
   ],
   "source": [
    "#נחשב את מספר הפעמים (מתוך 1000 סקרים שיצא שהמפלגה עברה את אחוז החסימה)\n",
    "summary=polls_summary['sum'].to_frame()\n",
    "summary=summary.drop(index='P160',axis=0)\n",
    "#summary=summary[1::]\n",
    "summary['Real Support [%]']=0\n",
    "sup_i=1\n",
    "for i in summary.index:\n",
    "    summary.loc[i,'Real Support [%]']= sup_i\n",
    "    sup_i=sup_i+0.2\n",
    "summary['Above Threshold']=np.where(summary['Real Support [%]']>3.25,True,False)\n",
    "summary['False Positive Rate [%]']=np.where(summary['Above Threshold']==False,summary['sum']/10,0)\n",
    "summary['False Negative Rate [%]']=np.where(summary['Above Threshold']==True,(1000-summary['sum'])/10,0)\n",
    "summary=summary.rename(columns={'sum': '# Passed Threshold 1k Polls'})\n",
    "summary=summary.rename_axis('Party')\n",
    "#summary=summary.reset_index().drop('support',axis=1)    \n",
    "summary"
   ]
  },
  {
   "cell_type": "markdown",
   "metadata": {},
   "source": [
    "### Fasle Positive & False Negative Rates By Real Support Rates"
   ]
  },
  {
   "cell_type": "code",
   "execution_count": 8,
   "metadata": {},
   "outputs": [
    {
     "data": {
      "text/plain": [
       "<matplotlib.axes._subplots.AxesSubplot at 0x2076618df98>"
      ]
     },
     "execution_count": 8,
     "metadata": {},
     "output_type": "execute_result"
    },
    {
     "data": {
      "image/png": "[encoded data removed]",
      "text/plain": [
       "<Figure size 432x288 with 1 Axes>"
      ]
     },
     "metadata": {
      "needs_background": "light"
     },
     "output_type": "display_data"
    }
   ],
   "source": [
    "summary[summary['Above Threshold']==False].plot.line(x='Real Support [%]', y='False Positive Rate [%]')"
   ]
  },
  {
   "cell_type": "code",
   "execution_count": 9,
   "metadata": {},
   "outputs": [
    {
     "data": {
      "text/plain": [
       "<matplotlib.axes._subplots.AxesSubplot at 0x2076621fb70>"
      ]
     },
     "execution_count": 9,
     "metadata": {},
     "output_type": "execute_result"
    },
    {
     "data": {
      "image/png": "[encoded data removed]",
      "text/plain": [
       "<Figure size 432x288 with 1 Axes>"
      ]
     },
     "metadata": {
      "needs_background": "light"
     },
     "output_type": "display_data"
    }
   ],
   "source": [
    "summary[summary['Above Threshold']==True].plot.line(x='Real Support [%]', y='False Negative Rate [%]')"
   ]
  },
  {
   "cell_type": "markdown",
   "metadata": {},
   "source": [
    "### ממצאים עיקריים:\n",
    "- מפלגות ממש סביב אחוז החסימה לא יעברו אותו בסקר בכ-50% מהמקרים (כפי שניתן היה לצפות)\n",
    "- מפלגה עם 2.4% תמיכה תעבור בכ-10% מהסקרים את אחוז החסימה (שהוא 3.25%) False Positive\n",
    "- מפלגה עם 4.4% תמיכה לא תעבור את אחוז החסימה ב-11.5% מהסקרים False Negative\n",
    "- ב-6 מתוך אלף סקרים גם מפלגה עם 1.6% תמיכה בלבד תעבור את אחוז החסימה\n",
    "- מפלגה עם 5.4% תמיכה לא תעבור את אחוז החסימה ב-1.2% מהסקרים\n",
    "- ההסתברות שנראה מפלגה שעברה ב-3 מדגמים בלתי תלויים (3 סקרים שונים) את אחוז החסימה על אף שהתמיכה בה באוכלוסיה רחוק מאחוז החסימה (נניח 2.4%) היא כ-1 לאלף\n",
    "- 10%-ההסתברות שנראה מפלגה שלא עברה את אחוז החסימה ב-3 מדגמים בלתי תלויים על אף שהתמיכה בה הוא למשל 3.4% (מעל אחוז החסימה) היא כ"
   ]
  },
  {
   "cell_type": "markdown",
   "metadata": {},
   "source": [
    "#### האם הסקר מאפשר לנו להבחין נכונה בתמיכה במפלגות הקטנות?"
   ]
  },
  {
   "cell_type": "code",
   "execution_count": 10,
   "metadata": {},
   "outputs": [],
   "source": [
    "temp=polls_rate.T.reset_index(drop=True)"
   ]
  },
  {
   "cell_type": "code",
   "execution_count": 11,
   "metadata": {},
   "outputs": [
    {
     "data": {
      "text/plain": [
       "<matplotlib.axes._subplots.AxesSubplot at 0x20766155978>"
      ]
     },
     "execution_count": 11,
     "metadata": {},
     "output_type": "execute_result"
    },
    {
     "data": {
      "image/png": "[encoded data removed]",
      "text/plain": [
       "<Figure size 432x288 with 1 Axes>"
      ]
     },
     "metadata": {
      "needs_background": "light"
     },
     "output_type": "display_data"
    }
   ],
   "source": [
    "temp[['P30','P50']].plot.density()"
   ]
  },
  {
   "cell_type": "markdown",
   "metadata": {},
   "source": [
    "  הסימולציה מראה גם שמפלגה עם 5% תמיכה בציבור (הקו הכתום) עשויה בסבירות של כ-1 ל-30 להציג בסקר תוצאות נחותות ממפלגה עם 3% תמיכה בציבור (הקו הכחול)\n",
    "  ובסבירות גבוהה מכך משמעותית לא ניתן יהיה להבחין מתוך הסקר למי מהן תמיכה נרחבת יותר"
   ]
  },
  {
   "cell_type": "code",
   "execution_count": 14,
   "metadata": {},
   "outputs": [
    {
     "data": {
      "text/plain": [
       "33"
      ]
     },
     "execution_count": 14,
     "metadata": {},
     "output_type": "execute_result"
    }
   ],
   "source": [
    "temp['P30'][temp['P30']>temp['P50']].count()  #כמה פעמים מתוך 1,000 סקרים יצא שהמפלגה עם 3% תמיכה קיבלה בסקר יותר ממפלגה עם 5% תמיכה "
   ]
  },
  {
   "cell_type": "code",
   "execution_count": 15,
   "metadata": {},
   "outputs": [
    {
     "data": {
      "text/plain": [
       "74"
      ]
     },
     "execution_count": 15,
     "metadata": {},
     "output_type": "execute_result"
    }
   ],
   "source": [
    "temp['P30'][temp['P20']>temp['P34']].count()  #כמה פעמים מתוך 1,000 סקרים יצא שהמפלגה עם 2% תמיכה קיבלה בסקר יותר ממפלגה עם 3.4% תמיכה"
   ]
  },
  {
   "cell_type": "markdown",
   "metadata": {},
   "source": [
    "ב-1 מכל 13 סקרים מפלגה עם 2 אחוזי תמיכה בפועל (מתחת לאחוז החסימה) תציג תוצאה גבוהה יותר ממפלגה עם 3.4% תמיכה (מעל אחוז החסימה) "
   ]
  },
  {
   "cell_type": "code",
   "execution_count": 16,
   "metadata": {},
   "outputs": [
    {
     "data": {
      "text/plain": [
       "23"
      ]
     },
     "execution_count": 16,
     "metadata": {},
     "output_type": "execute_result"
    }
   ],
   "source": [
    "temp['P30'][temp['P16']>temp['P34']].count() #כמה פעמים מתוך 1,000 סקרים יצא שהמפלגה עם 1.6% תמיכה קיבלה בסקר יותר ממפלגה עם 3.4% תמיכה"
   ]
  },
  {
   "cell_type": "markdown",
   "metadata": {},
   "source": [
    "ב-1 מכל 40 סקרים לערך מפלגה עם 1.6 אחוזי תמיכה בפועל (מתחת לאחוז החסימה) תציג תוצאה גבוהה יותר ממפלגה עם 3.4% תמיכה (מעל אחוז החסימה) "
   ]
  },
  {
   "cell_type": "markdown",
   "metadata": {},
   "source": [
    "### מה הסיכוי שמפלגה שקיבלה בסקר שיעור תמיכה נמוך מאד למעשה עוברת את אחוז החסימה?"
   ]
  },
  {
   "cell_type": "code",
   "execution_count": 18,
   "metadata": {},
   "outputs": [
    {
     "data": {
      "text/plain": [
       "<matplotlib.axes._subplots.AxesSubplot at 0x20767cb3b00>"
      ]
     },
     "execution_count": 18,
     "metadata": {},
     "output_type": "execute_result"
    },
    {
     "data": {
      "image/png": "[encoded data removed]",
      "text/plain": [
       "<Figure size 432x288 with 1 Axes>"
      ]
     },
     "metadata": {
      "needs_background": "light"
     },
     "output_type": "display_data"
    }
   ],
   "source": [
    "results=pd.DataFrame(np.arange(325)/100)\n",
    "results.columns={'Poll Results Below [%]'}\n",
    "results['Value [%]'] = results.apply(lambda x: temp['P34'][temp['P34']<x['Poll Results Below [%]']/100].count()/10, axis=1)       \n",
    "results.plot.line(x='Poll Results Below [%]', y='Value [%]', title='Probability for a just-above-threshold party to be seen at the polls as below threshold with different rates of support at the poll', grid=True)"
   ]
  },
  {
   "cell_type": "markdown",
   "metadata": {},
   "source": [
    "בגרף מעלה מוצגת ההסתברות שמפלגה עם תמיכה של 3.4% באוכלוסיה (מעל אחוז החסימה) תקבל בסקרים לכל היותר שיעורים שונים של תמיכה (הציר האופקי בגרף)\n",
    "ניתן לראות, למשל, שההסתברות שמפלגה כזו תקבל בסקרים פחות מ-1.2% הוא כמעט אפס, והוא נותרת נמוכה מאד עד כ-1.7% שם עולה ההסתברות לכ-5% (1 מכל 20 סקרים). \n",
    "המסקנה היא שמפלגות שמקבלות ערכים נמוכים **מאד** (קטנה מ-1.5%) בסקרים, שיעור זה מייצג נאמנה את העובדה שהסיכוי שהתמיכה בהן באוכלוסיה כולה (ברגע הסקר) לא תאפשר להן לעבור את אחוז החסימה. \n",
    "מפלגות שקרובות יותר לאחוז החסימה בסקר, ומקבלות למשל תמיכה של כ-2.5% (3 מנדטים)  - ישנה הסתברות לא מבוטלת שלכ-20% שברגע הסקר למעשה מעל אחוז החסימה."
   ]
  },
  {
   "cell_type": "code",
   "execution_count": 19,
   "metadata": {},
   "outputs": [
    {
     "data": {
      "text/plain": [
       "<matplotlib.axes._subplots.AxesSubplot at 0x20767d89f28>"
      ]
     },
     "execution_count": 19,
     "metadata": {},
     "output_type": "execute_result"
    },
    {
     "data": {
      "image/png": "[encoded data removed]",
      "text/plain": [
       "<Figure size 432x288 with 1 Axes>"
      ]
     },
     "metadata": {
      "needs_background": "light"
     },
     "output_type": "display_data"
    }
   ],
   "source": [
    "results2=pd.DataFrame(np.arange(500)/100)\n",
    "results2.columns={'Poll Results Above [%]'}\n",
    "#results2.head()\n",
    "results2['Value [%]'] = results2.apply(lambda x: temp['P20'][temp['P20']>x['Poll Results Above [%]']/100].count()/10, axis=1)       \n",
    "results2.plot.line(x='Poll Results Above [%]', y='Value [%]', title='Probability for a way-below-threshold party to be seen at the polls as above threshold with different rates of support at the poll', grid=True)"
   ]
  },
  {
   "cell_type": "markdown",
   "metadata": {},
   "source": [
    "מהצד השני - כאשר בוחנים מפלגה עם תמיכה של 2% וההסתברות שתקבל מעל רצף ערכים שונים בסקר, התוצאות מעידות על כך שהסיכוי שמפלגה עם תמיכה של 2% תעבור בסקר את אחוז החסימה הוא כ-6%\n",
    "<br/>\n",
    "ומטה יש את התוצאות הכלליות יותר - עבור שיעורי תמיכה אמיתיים שונים - מהי ההסתברות שהמפלגה תעבור בסקר את אחוז החסימה? "
   ]
  },
  {
   "cell_type": "code",
   "execution_count": 22,
   "metadata": {},
   "outputs": [
    {
     "data": {
      "text/plain": [
       "<matplotlib.axes._subplots.AxesSubplot at 0x20767e71710>"
      ]
     },
     "execution_count": 22,
     "metadata": {},
     "output_type": "execute_result"
    },
    {
     "data": {
      "image/png": "[encoded data removed]",
      "text/plain": [
       "<Figure size 432x288 with 1 Axes>"
      ]
     },
     "metadata": {
      "needs_background": "light"
     },
     "output_type": "display_data"
    }
   ],
   "source": [
    "results3=pd.DataFrame(temp.columns)\n",
    "results3.columns={'Party'}\n",
    "results3=results3[results3['Party']!='P160']\n",
    "results3.reset_index(inplace=True)\n",
    "results3['real supprt [%]']=pd.DataFrame(np.arange(10,60,2)/10)\n",
    "results3['Probability to have Above-Threshold Rate at the poll [%]'] = results3.apply(lambda x: temp[x['Party']][temp[x['Party']]>0.0325].count()/10, axis=1)       \n",
    "#results3\n",
    "results3.plot.line(x='real supprt [%]', y='Probability to have Above-Threshold Rate at the poll [%]', title='Probability for parties of different rates of real support to be above the threshold at the poll', grid=True)"
   ]
  },
  {
   "cell_type": "markdown",
   "metadata": {},
   "source": [
    "### סיכום\n",
    "- הסקרים חשובים ובמידה רבה יכולים לתת לנו תמונה טובה של המתרחש בשטח גם כאשר המדגם הוא 500 איש בלבד מתוך כ-6.5 מליון בוחרים\n",
    "- יחד עם זאת, למדגם המצומצם, כפי שהוצג בעבודה קצרה זו, יש עלות - אי דיוק. אי הדיוק הזה משמעותי במיוחד עבור המפלגות הקטנות סביב אחוז החסימה. זה מקבל משנה תוקף כיוון שהסקרים עצמם עשויים לחרוץ את דינן של המפלגות הללו\n",
    "- יש לציין שבחינה של מספר סקרים בלתי תלויים מצמצת מאד את הסיכוי לטעות\n",
    "- לבסוף, חשוב להדגיש שבסקרים ישנן בעיות שעבודה זו שנעשתה בתנאים סטריליים לא עסקה בהן כלל - כמו טיב המידע שמספק הנסקר, שונות בהסתברות המותנת להצבעה בפועל (שכן יש שבוחרים שלא להצביע) ואופן הדגימה בסקר"
   ]
  },
  {
   "cell_type": "code",
   "execution_count": null,
   "metadata": {},
   "outputs": [],
   "source": []
  }
 ],
 "metadata": {
  "kernelspec": {
   "display_name": "Python 3",
   "language": "python",
   "name": "python3"
  },
  "language_info": {
   "codemirror_mode": {
    "name": "ipython",
    "version": 3
   },
   "file_extension": ".py",
   "mimetype": "text/x-python",
   "name": "python",
   "nbconvert_exporter": "python",
   "pygments_lexer": "ipython3",
   "version": "3.6.8"
  }
 },
 "nbformat": 4,
 "nbformat_minor": 2
}
